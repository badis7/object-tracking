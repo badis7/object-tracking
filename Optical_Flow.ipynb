{
 "cells": [
  {
   "cell_type": "code",
   "execution_count": 1,
   "metadata": {},
   "outputs": [
    {
     "name": "stdout",
     "output_type": "stream",
     "text": [
      "Looking in indexes: https://pypi.tuna.tsinghua.edu.cn/simple\n",
      "Requirement already satisfied: opencv-python in c:\\users\\legion\\anaconda3\\lib\\site-packages (4.5.1.48)\n",
      "Requirement already satisfied: numpy>=1.17.3 in c:\\users\\legion\\anaconda3\\lib\\site-packages (from opencv-python) (1.19.2)\n",
      "Note: you may need to restart the kernel to use updated packages.\n"
     ]
    }
   ],
   "source": [
    "pip install opencv-python "
   ]
  },
  {
   "cell_type": "markdown",
   "metadata": {},
   "source": [
    "commanding officer first of all i installed opencv python using pip "
   ]
  },
  {
   "cell_type": "code",
   "execution_count": null,
   "metadata": {},
   "outputs": [
    {
     "name": "stderr",
     "output_type": "stream",
     "text": [
      "<ipython-input-2-fab6675baea1>:30: DeprecationWarning: an integer is required (got type numpy.float32).  Implicit conversion to integers using __int__ is deprecated, and may be removed in a future version of Python.\n",
      "  mask = cv2.line(mask,\n",
      "<ipython-input-2-fab6675baea1>:36: DeprecationWarning: an integer is required (got type numpy.float32).  Implicit conversion to integers using __int__ is deprecated, and may be removed in a future version of Python.\n",
      "  frame  = cv2.circle(frame,\n"
     ]
    }
   ],
   "source": [
    "import cv2\n",
    "import numpy as np\n",
    "\n",
    "st_params = dict(maxCorners=30, qualityLevel=0.2, minDistance=2, blockSize=7)\n",
    "lk_params  = dict(winSize=(15,15),maxLevel=2, criteria=(cv2.TERM_CRITERIA_EPS | cv2.TERM_CRITERIA_COUNT,10,1))\n",
    "\n",
    "#here i'm trying to capture the video , then i'll read it and use cv2 functions like BGR2GRay, cvtcolor and goodfeaturestotrack to track my own objectifs\n",
    "#then i created an image with the same dimensions as the frame for later drawing purposes\n",
    "cap = cv2.VideoCapture('Video/run.mp4')\n",
    "color = (0,255,0)\n",
    "ret, first_frame = cap.read()\n",
    "\n",
    "prev_gray = cv2.cvtColor(first_frame,cv2.COLOR_BGR2GRAY)\n",
    "prev = cv2.goodFeaturesToTrack(prev_gray,mask=None, **st_params)\n",
    "mask = np.zeros_like(first_frame)\n",
    "while(cap.isOpened()):\n",
    "    \n",
    "    #Reading the capture and getting the first frame and then i calculated my optical flow witch is a methode created by Lucas kanade,\n",
    "    ret, frame = cap.read()\n",
    "    gray=cv2.cvtColor(frame,cv2.COLOR_BGR2GRAY)\n",
    "    next,status,error=cv2.calcOpticalFlowPyrLK(prev_gray,gray,prev,None,**lk_params)\n",
    "    #here you'll be able to select the frame and then to select the good feature in the next position \n",
    "    good_old = prev[status==1]\n",
    "    good_new = next[status==1]\n",
    "    \n",
    "    #and finally here i'm drawing my optical coordinations between new and old positions \n",
    "    for i,(new,old) in enumerate(zip(good_new,good_old)):\n",
    "        a,b = new.ravel()\n",
    "        c,d = old.ravel()\n",
    "        mask = cv2.line(mask,\n",
    "                       (a,b),\n",
    "                       (c,d),\n",
    "                       color,\n",
    "                       2)\n",
    "        #then i'm drawing my circle to detect so you are able to change the demensions\n",
    "        frame  = cv2.circle(frame,\n",
    "                           (a,b),\n",
    "                           3,\n",
    "                           color,\n",
    "                           -1)\n",
    "        #the output here will be an overal real frame and i updated it and i updates the good features \n",
    "        output = cv2.add(frame,mask)\n",
    "        prev_gray = gray.copy()\n",
    "        prev = good_new.reshape(-1,1,2)\n",
    "        #here's how you can open the new window and display your vid \n",
    "        cv2.imshow('Optical Flow',output)\n",
    "        #and finally i closed the frame \n",
    "        if cv2.waitKey(300)& 0xFF ==ord('q'):\n",
    "            break\n",
    "cap.release()\n",
    "cv2.destroyAllWindows()\n",
    "        \n",
    "        \n",
    "        \n",
    "\n"
   ]
  },
  {
   "cell_type": "code",
   "execution_count": null,
   "metadata": {},
   "outputs": [],
   "source": []
  }
 ],
 "metadata": {
  "kernelspec": {
   "display_name": "Python 3",
   "language": "python",
   "name": "python3"
  },
  "language_info": {
   "codemirror_mode": {
    "name": "ipython",
    "version": 3
   },
   "file_extension": ".py",
   "mimetype": "text/x-python",
   "name": "python",
   "nbconvert_exporter": "python",
   "pygments_lexer": "ipython3",
   "version": "3.8.8"
  }
 },
 "nbformat": 4,
 "nbformat_minor": 4
}
