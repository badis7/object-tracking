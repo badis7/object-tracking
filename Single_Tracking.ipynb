{
 "cells": [
  {
   "cell_type": "code",
   "execution_count": 1,
   "metadata": {},
   "outputs": [
    {
     "name": "stdout",
     "output_type": "stream",
     "text": [
      "Looking in indexes: https://pypi.tuna.tsinghua.edu.cn/simple\n",
      "Requirement already satisfied: opencv-contrib-python in c:\\users\\legion\\anaconda3\\lib\\site-packages (4.5.1.48)\n",
      "Requirement already satisfied: numpy>=1.17.3 in c:\\users\\legion\\anaconda3\\lib\\site-packages (from opencv-contrib-python) (1.19.2)\n",
      "Note: you may need to restart the kernel to use updated packages.\n"
     ]
    }
   ],
   "source": [
    "pip install opencv-contrib-python"
   ]
  },
  {
   "cell_type": "code",
   "execution_count": 2,
   "metadata": {},
   "outputs": [],
   "source": [
    "import cv2"
   ]
  },
  {
   "cell_type": "markdown",
   "metadata": {},
   "source": [
    "### here i'm defining the tracker "
   ]
  },
  {
   "cell_type": "markdown",
   "metadata": {},
   "source": [
    "so we have 'boosting' 'mil' 'kcf' 'tld' ' medianflow' 'goturn' 'mosse' 'csrt' "
   ]
  },
  {
   "cell_type": "code",
   "execution_count": 3,
   "metadata": {},
   "outputs": [],
   "source": [
    "def ask_for_tracker ():\n",
    "    print('Hi,! What tracker API would you like?')\n",
    "    print('Enter 0 for BOOSTING: ')\n",
    "    print('Enter 1 for MIL: ')\n",
    "    print('Enter 2 for KCF: ')\n",
    "    print('Enter 3 for TLD: ')\n",
    "    print('Enter 4 for MEDIANFLOW: ')\n",
    "    print('Enter 5 for GOTURN: ')\n",
    "    print('Enter 6 for MOSSE: ')\n",
    "    print('Enter 7 for CSRT: ')\n",
    "    choice = input('Please select your tracker: ')\n",
    "    if choice == '0':\n",
    "        tracker=cv2.TrackerBoosting_create()\n",
    "    elif choice == '1':\n",
    "        tracker=cv2.TrackerMIL_create()\n",
    "    elif choice == '2':\n",
    "        tracker=cv2.TrackerKCF_create()\n",
    "    elif choice == '3':\n",
    "        tracker=cv2.TrackerTLD_create()\n",
    "    elif choice == '4':\n",
    "        tracker=cv2.TrackerMedianFlow_create()\n",
    "    elif choice == '5':\n",
    "        tracker=cv2.TrackerGOTURN_create()\n",
    "    elif choice == '6':\n",
    "        tracker=cv2.TrackerMOOSE_create()\n",
    "    elif choice == '7':\n",
    "        tracker=cv2.TrackerCSRT_create()    \n",
    "        \n",
    "    return tracker   "
   ]
  },
  {
   "cell_type": "markdown",
   "metadata": {},
   "source": [
    "### It's a Kind Of  Magic"
   ]
  },
  {
   "cell_type": "code",
   "execution_count": null,
   "metadata": {},
   "outputs": [
    {
     "name": "stdout",
     "output_type": "stream",
     "text": [
      "Hi,! What tracker API would you like?\n",
      "Enter 0 for BOOSTING: \n",
      "Enter 1 for MIL: \n",
      "Enter 2 for KCF: \n",
      "Enter 3 for TLD: \n",
      "Enter 4 for MEDIANFLOW: \n",
      "Enter 5 for GOTURN: \n",
      "Enter 6 for MOSSE: \n",
      "Enter 7 for CSRT: \n",
      "Please select your tracker: 1\n"
     ]
    }
   ],
   "source": [
    "#here you can ask for the tracker who you want\n",
    "tracker = ask_for_tracker()\n",
    "tracker_name = str(tracker).split()[0][1:]\n",
    "cap = cv2.VideoCapture('Video/me1.mp4')\n",
    "ret,frame=cap.read()\n",
    "roi = cv2.selectROI(frame,False)\n",
    "#and then i'm Initializing the tracker\n",
    "ret= tracker.init(frame, roi)\n",
    "while True:\n",
    "    ret, frame= cap.read()   \n",
    "    # updating tracker\n",
    "    success, roi = tracker.update(frame) \n",
    "    # roi -> from tuple to int\n",
    "    (x,y,w,h) = tuple(map(int,roi))\n",
    "    #here i'm Drawing rects as tracker moves\n",
    "    if success:\n",
    "        pts1=(x,y)\n",
    "        pts2 = (x+w,y+h)\n",
    "        cv2.rectangle(frame,pts1,pts2,(255,25,0),3)\n",
    "    else:\n",
    "        # in case of Failure on tracking\n",
    "        cv2.putText(frame, 'Failed to track the object', (100,200), cv2.FONT_HERSHEY_SIMPLEX,1,(25,125,255),3)\n",
    "    # Displaying the Tracker\n",
    "    cv2.putText(frame,\n",
    "               tracker_name,\n",
    "               (20,400),\n",
    "               cv2.FONT_HERSHEY_SIMPLEX,\n",
    "               1,\n",
    "               (255,255,0),\n",
    "               3)\n",
    "    # Displaying result\n",
    "    cv2.imshow(tracker_name,frame)   \n",
    "    # Exit with Esc button\n",
    "    if cv2.waitKey(50) & 0xFF==27:\n",
    "        break\n",
    "\n",
    "cap.release()\n",
    "cv2.destroyAllWindows()\n",
    "\n"
   ]
  },
  {
   "cell_type": "code",
   "execution_count": null,
   "metadata": {},
   "outputs": [],
   "source": []
  }
 ],
 "metadata": {
  "kernelspec": {
   "display_name": "Python 3",
   "language": "python",
   "name": "python3"
  },
  "language_info": {
   "codemirror_mode": {
    "name": "ipython",
    "version": 3
   },
   "file_extension": ".py",
   "mimetype": "text/x-python",
   "name": "python",
   "nbconvert_exporter": "python",
   "pygments_lexer": "ipython3",
   "version": "3.8.8"
  }
 },
 "nbformat": 4,
 "nbformat_minor": 4
}
