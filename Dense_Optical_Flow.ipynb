{
 "cells": [
  {
   "cell_type": "code",
   "execution_count": 1,
   "metadata": {},
   "outputs": [
    {
     "name": "stdout",
     "output_type": "stream",
     "text": [
      "Looking in indexes: https://pypi.tuna.tsinghua.edu.cn/simple\n",
      "Requirement already satisfied: opencv-python in c:\\users\\legion\\anaconda3\\lib\\site-packages (4.5.1.48)\n",
      "Requirement already satisfied: numpy>=1.17.3 in c:\\users\\legion\\anaconda3\\lib\\site-packages (from opencv-python) (1.19.2)\n",
      "Note: you may need to restart the kernel to use updated packages.\n"
     ]
    }
   ],
   "source": [
    "pip install opencv-python"
   ]
  },
  {
   "cell_type": "markdown",
   "metadata": {},
   "source": [
    "the second methode is using the dense optical flow for detection "
   ]
  },
  {
   "cell_type": "code",
   "execution_count": null,
   "metadata": {},
   "outputs": [],
   "source": [
    "\n",
    "import cv2\n",
    "import numpy as np \n",
    "cap=cv2.VideoCapture('Video/chaplin.mp4')\n",
    "\n",
    "ret,first_frame=cap.read()\n",
    "prev_gray=cv2.cvtColor(first_frame,cv2.COLOR_BGR2GRAY)\n",
    "\n",
    "mask=np.zeros_like(first_frame)\n",
    "\n",
    "#here's the second method here i make the saturation to the maximum  \n",
    "mask[...,1]=255\n",
    "while(cap.isOpened()):\n",
    "\n",
    "    #here you can Read the capture and get the first frame and then Open new window and display the input frame\n",
    "    ret,frame=cap.read()\n",
    "    cv2.imshow('input',frame)\n",
    "    gray= cv2.cvtColor(frame,cv2.COLOR_BGR2GRAY)\n",
    "    #so here i'm Calculating the dense optical flow witch is a method created by Farneback\n",
    "    flow=cv2.calcOpticalFlowFarneback(prev_gray,\n",
    "                                     gray,\n",
    "                                     None,\n",
    "                                     0.5,\n",
    "                                     3,\n",
    "                                     15,\n",
    "                                     3,\n",
    "                                     5,\n",
    "                                     1.2,\n",
    "                                     0)\n",
    "    #computing the angle and Setting the image hue depanding on the optical flow direction\n",
    "    magn,angle=cv2.cartToPolar(flow[...,0],\n",
    "                               flow[...,1])\n",
    "    mask[...,0]=angle*180/(np.pi/2)\n",
    "    #here i Normalized the magnitude\n",
    "    mask[...,2] =cv2.normalize(magn,\n",
    "                              None,\n",
    "                              0,\n",
    "                              255,\n",
    "                              cv2.NORM_MINMAX)\n",
    "    #and then Converting HSV to RGB and Opening a new window and display the output\n",
    "    rgb=cv2.cvtColor(mask,cv2.COLOR_HSV2RGB)\n",
    "    cv2.imshow('Dense Optical Flow',rgb)\n",
    "    prev_gray=gray\n",
    "    if cv2.waitKey(30)& 0xFF == ord('q'):\n",
    "        break\n",
    "#in the first methode i didn't explain this ! this how you can Release and Destroy and it's necessary to make your program running without troubles \n",
    "cap.release()\n",
    "cv2.destroyAllWindows()\n",
    "\n"
   ]
  },
  {
   "cell_type": "code",
   "execution_count": null,
   "metadata": {},
   "outputs": [],
   "source": []
  }
 ],
 "metadata": {
  "kernelspec": {
   "display_name": "Python 3",
   "language": "python",
   "name": "python3"
  },
  "language_info": {
   "codemirror_mode": {
    "name": "ipython",
    "version": 3
   },
   "file_extension": ".py",
   "mimetype": "text/x-python",
   "name": "python",
   "nbconvert_exporter": "python",
   "pygments_lexer": "ipython3",
   "version": "3.8.8"
  }
 },
 "nbformat": 4,
 "nbformat_minor": 4
}
